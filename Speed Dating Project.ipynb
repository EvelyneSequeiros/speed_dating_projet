{
 "cells": [
  {
   "cell_type": "markdown",
   "id": "ea7d00a1-0a7c-4407-b9ab-dd620eb9a4c3",
   "metadata": {},
   "source": [
    "# Speed Dating Project"
   ]
  },
  {
   "cell_type": "markdown",
   "id": "fbfb97ab-3aa0-464e-b316-8b814f786ce5",
   "metadata": {},
   "source": [
    "### Import Libraries"
   ]
  },
  {
   "cell_type": "code",
   "execution_count": 33,
   "id": "cfca924a-2589-47a1-91b8-0ea90f1edd39",
   "metadata": {},
   "outputs": [],
   "source": [
    "import seaborn as sns\n",
    "import matplotlib.pyplot as plt\n",
    "import pandas as pd"
   ]
  },
  {
   "cell_type": "markdown",
   "id": "11c9bc7d-daad-4f51-96f5-7ad10cb4e0b3",
   "metadata": {},
   "source": [
    "#### Display usual info with pandas"
   ]
  },
  {
   "cell_type": "code",
   "execution_count": 34,
   "id": "46227317-bf48-4242-a0f9-c38a79ce44ce",
   "metadata": {},
   "outputs": [
    {
     "data": {
      "text/html": [
       "<div>\n",
       "<style scoped>\n",
       "    .dataframe tbody tr th:only-of-type {\n",
       "        vertical-align: middle;\n",
       "    }\n",
       "\n",
       "    .dataframe tbody tr th {\n",
       "        vertical-align: top;\n",
       "    }\n",
       "\n",
       "    .dataframe thead th {\n",
       "        text-align: right;\n",
       "    }\n",
       "</style>\n",
       "<table border=\"1\" class=\"dataframe\">\n",
       "  <thead>\n",
       "    <tr style=\"text-align: right;\">\n",
       "      <th></th>\n",
       "      <th>iid</th>\n",
       "      <th>id</th>\n",
       "      <th>gender</th>\n",
       "      <th>idg</th>\n",
       "      <th>condtn</th>\n",
       "      <th>wave</th>\n",
       "      <th>round</th>\n",
       "      <th>position</th>\n",
       "      <th>positin1</th>\n",
       "      <th>order</th>\n",
       "      <th>partner</th>\n",
       "      <th>pid</th>\n",
       "      <th>match</th>\n",
       "      <th>int_corr</th>\n",
       "      <th>samerace</th>\n",
       "      <th>age_o</th>\n",
       "      <th>race_o</th>\n",
       "      <th>pf_o_att</th>\n",
       "      <th>pf_o_sin</th>\n",
       "      <th>pf_o_int</th>\n",
       "      <th>pf_o_fun</th>\n",
       "      <th>pf_o_amb</th>\n",
       "      <th>pf_o_sha</th>\n",
       "      <th>dec_o</th>\n",
       "      <th>attr_o</th>\n",
       "      <th>sinc_o</th>\n",
       "      <th>intel_o</th>\n",
       "      <th>fun_o</th>\n",
       "      <th>amb_o</th>\n",
       "      <th>shar_o</th>\n",
       "      <th>like_o</th>\n",
       "      <th>prob_o</th>\n",
       "      <th>met_o</th>\n",
       "      <th>age</th>\n",
       "      <th>field</th>\n",
       "      <th>field_cd</th>\n",
       "      <th>undergra</th>\n",
       "      <th>mn_sat</th>\n",
       "      <th>tuition</th>\n",
       "      <th>race</th>\n",
       "      <th>imprace</th>\n",
       "      <th>imprelig</th>\n",
       "      <th>from</th>\n",
       "      <th>zipcode</th>\n",
       "      <th>income</th>\n",
       "      <th>goal</th>\n",
       "      <th>date</th>\n",
       "      <th>go_out</th>\n",
       "      <th>career</th>\n",
       "      <th>career_c</th>\n",
       "      <th>sports</th>\n",
       "      <th>tvsports</th>\n",
       "      <th>exercise</th>\n",
       "      <th>dining</th>\n",
       "      <th>museums</th>\n",
       "      <th>art</th>\n",
       "      <th>hiking</th>\n",
       "      <th>gaming</th>\n",
       "      <th>clubbing</th>\n",
       "      <th>reading</th>\n",
       "      <th>tv</th>\n",
       "      <th>theater</th>\n",
       "      <th>movies</th>\n",
       "      <th>concerts</th>\n",
       "      <th>music</th>\n",
       "      <th>shopping</th>\n",
       "      <th>yoga</th>\n",
       "      <th>exphappy</th>\n",
       "      <th>expnum</th>\n",
       "      <th>attr1_1</th>\n",
       "      <th>sinc1_1</th>\n",
       "      <th>intel1_1</th>\n",
       "      <th>fun1_1</th>\n",
       "      <th>amb1_1</th>\n",
       "      <th>shar1_1</th>\n",
       "      <th>attr4_1</th>\n",
       "      <th>sinc4_1</th>\n",
       "      <th>intel4_1</th>\n",
       "      <th>fun4_1</th>\n",
       "      <th>amb4_1</th>\n",
       "      <th>shar4_1</th>\n",
       "      <th>attr2_1</th>\n",
       "      <th>sinc2_1</th>\n",
       "      <th>intel2_1</th>\n",
       "      <th>fun2_1</th>\n",
       "      <th>amb2_1</th>\n",
       "      <th>shar2_1</th>\n",
       "      <th>attr3_1</th>\n",
       "      <th>sinc3_1</th>\n",
       "      <th>fun3_1</th>\n",
       "      <th>intel3_1</th>\n",
       "      <th>amb3_1</th>\n",
       "      <th>attr5_1</th>\n",
       "      <th>sinc5_1</th>\n",
       "      <th>intel5_1</th>\n",
       "      <th>fun5_1</th>\n",
       "      <th>amb5_1</th>\n",
       "      <th>dec</th>\n",
       "      <th>attr</th>\n",
       "      <th>sinc</th>\n",
       "      <th>intel</th>\n",
       "      <th>fun</th>\n",
       "      <th>amb</th>\n",
       "      <th>shar</th>\n",
       "      <th>like</th>\n",
       "      <th>prob</th>\n",
       "      <th>met</th>\n",
       "      <th>match_es</th>\n",
       "      <th>attr1_s</th>\n",
       "      <th>sinc1_s</th>\n",
       "      <th>intel1_s</th>\n",
       "      <th>fun1_s</th>\n",
       "      <th>amb1_s</th>\n",
       "      <th>shar1_s</th>\n",
       "      <th>attr3_s</th>\n",
       "      <th>sinc3_s</th>\n",
       "      <th>intel3_s</th>\n",
       "      <th>fun3_s</th>\n",
       "      <th>amb3_s</th>\n",
       "      <th>satis_2</th>\n",
       "      <th>length</th>\n",
       "      <th>numdat_2</th>\n",
       "      <th>attr7_2</th>\n",
       "      <th>sinc7_2</th>\n",
       "      <th>intel7_2</th>\n",
       "      <th>fun7_2</th>\n",
       "      <th>amb7_2</th>\n",
       "      <th>shar7_2</th>\n",
       "      <th>attr1_2</th>\n",
       "      <th>sinc1_2</th>\n",
       "      <th>intel1_2</th>\n",
       "      <th>fun1_2</th>\n",
       "      <th>amb1_2</th>\n",
       "      <th>shar1_2</th>\n",
       "      <th>attr4_2</th>\n",
       "      <th>sinc4_2</th>\n",
       "      <th>intel4_2</th>\n",
       "      <th>fun4_2</th>\n",
       "      <th>amb4_2</th>\n",
       "      <th>shar4_2</th>\n",
       "      <th>attr2_2</th>\n",
       "      <th>sinc2_2</th>\n",
       "      <th>intel2_2</th>\n",
       "      <th>fun2_2</th>\n",
       "      <th>amb2_2</th>\n",
       "      <th>shar2_2</th>\n",
       "      <th>attr3_2</th>\n",
       "      <th>sinc3_2</th>\n",
       "      <th>intel3_2</th>\n",
       "      <th>fun3_2</th>\n",
       "      <th>amb3_2</th>\n",
       "      <th>attr5_2</th>\n",
       "      <th>sinc5_2</th>\n",
       "      <th>intel5_2</th>\n",
       "      <th>fun5_2</th>\n",
       "      <th>amb5_2</th>\n",
       "      <th>you_call</th>\n",
       "      <th>them_cal</th>\n",
       "      <th>date_3</th>\n",
       "      <th>numdat_3</th>\n",
       "      <th>num_in_3</th>\n",
       "      <th>attr1_3</th>\n",
       "      <th>sinc1_3</th>\n",
       "      <th>intel1_3</th>\n",
       "      <th>fun1_3</th>\n",
       "      <th>amb1_3</th>\n",
       "      <th>shar1_3</th>\n",
       "      <th>attr7_3</th>\n",
       "      <th>sinc7_3</th>\n",
       "      <th>intel7_3</th>\n",
       "      <th>fun7_3</th>\n",
       "      <th>amb7_3</th>\n",
       "      <th>shar7_3</th>\n",
       "      <th>attr4_3</th>\n",
       "      <th>sinc4_3</th>\n",
       "      <th>intel4_3</th>\n",
       "      <th>fun4_3</th>\n",
       "      <th>amb4_3</th>\n",
       "      <th>shar4_3</th>\n",
       "      <th>attr2_3</th>\n",
       "      <th>sinc2_3</th>\n",
       "      <th>intel2_3</th>\n",
       "      <th>fun2_3</th>\n",
       "      <th>amb2_3</th>\n",
       "      <th>shar2_3</th>\n",
       "      <th>attr3_3</th>\n",
       "      <th>sinc3_3</th>\n",
       "      <th>intel3_3</th>\n",
       "      <th>fun3_3</th>\n",
       "      <th>amb3_3</th>\n",
       "      <th>attr5_3</th>\n",
       "      <th>sinc5_3</th>\n",
       "      <th>intel5_3</th>\n",
       "      <th>fun5_3</th>\n",
       "      <th>amb5_3</th>\n",
       "    </tr>\n",
       "  </thead>\n",
       "  <tbody>\n",
       "    <tr>\n",
       "      <th>0</th>\n",
       "      <td>1</td>\n",
       "      <td>1.0</td>\n",
       "      <td>0</td>\n",
       "      <td>1</td>\n",
       "      <td>1</td>\n",
       "      <td>1</td>\n",
       "      <td>10</td>\n",
       "      <td>7</td>\n",
       "      <td>NaN</td>\n",
       "      <td>4</td>\n",
       "      <td>1</td>\n",
       "      <td>11.0</td>\n",
       "      <td>0</td>\n",
       "      <td>0.14</td>\n",
       "      <td>0</td>\n",
       "      <td>27.0</td>\n",
       "      <td>2.0</td>\n",
       "      <td>35.0</td>\n",
       "      <td>20.0</td>\n",
       "      <td>20.0</td>\n",
       "      <td>20.0</td>\n",
       "      <td>0.0</td>\n",
       "      <td>5.0</td>\n",
       "      <td>0</td>\n",
       "      <td>6.0</td>\n",
       "      <td>8.0</td>\n",
       "      <td>8.0</td>\n",
       "      <td>8.0</td>\n",
       "      <td>8.0</td>\n",
       "      <td>6.0</td>\n",
       "      <td>7.0</td>\n",
       "      <td>4.0</td>\n",
       "      <td>2.0</td>\n",
       "      <td>21.0</td>\n",
       "      <td>Law</td>\n",
       "      <td>1.0</td>\n",
       "      <td>NaN</td>\n",
       "      <td>NaN</td>\n",
       "      <td>NaN</td>\n",
       "      <td>4.0</td>\n",
       "      <td>2.0</td>\n",
       "      <td>4.0</td>\n",
       "      <td>Chicago</td>\n",
       "      <td>60,521</td>\n",
       "      <td>69,487.00</td>\n",
       "      <td>2.0</td>\n",
       "      <td>7.0</td>\n",
       "      <td>1.0</td>\n",
       "      <td>lawyer</td>\n",
       "      <td>NaN</td>\n",
       "      <td>9.0</td>\n",
       "      <td>2.0</td>\n",
       "      <td>8.0</td>\n",
       "      <td>9.0</td>\n",
       "      <td>1.0</td>\n",
       "      <td>1.0</td>\n",
       "      <td>5.0</td>\n",
       "      <td>1.0</td>\n",
       "      <td>5.0</td>\n",
       "      <td>6.0</td>\n",
       "      <td>9.0</td>\n",
       "      <td>1.0</td>\n",
       "      <td>10.0</td>\n",
       "      <td>10.0</td>\n",
       "      <td>9.0</td>\n",
       "      <td>8.0</td>\n",
       "      <td>1.0</td>\n",
       "      <td>3.0</td>\n",
       "      <td>2.0</td>\n",
       "      <td>15.0</td>\n",
       "      <td>20.0</td>\n",
       "      <td>20.0</td>\n",
       "      <td>15.0</td>\n",
       "      <td>15.0</td>\n",
       "      <td>15.0</td>\n",
       "      <td>NaN</td>\n",
       "      <td>NaN</td>\n",
       "      <td>NaN</td>\n",
       "      <td>NaN</td>\n",
       "      <td>NaN</td>\n",
       "      <td>NaN</td>\n",
       "      <td>35.0</td>\n",
       "      <td>20.0</td>\n",
       "      <td>15.0</td>\n",
       "      <td>20.0</td>\n",
       "      <td>5.0</td>\n",
       "      <td>5.0</td>\n",
       "      <td>6.0</td>\n",
       "      <td>8.0</td>\n",
       "      <td>8.0</td>\n",
       "      <td>8.0</td>\n",
       "      <td>7.0</td>\n",
       "      <td>NaN</td>\n",
       "      <td>NaN</td>\n",
       "      <td>NaN</td>\n",
       "      <td>NaN</td>\n",
       "      <td>NaN</td>\n",
       "      <td>1</td>\n",
       "      <td>6.0</td>\n",
       "      <td>9.0</td>\n",
       "      <td>7.0</td>\n",
       "      <td>7.0</td>\n",
       "      <td>6.0</td>\n",
       "      <td>5.0</td>\n",
       "      <td>7.0</td>\n",
       "      <td>6.0</td>\n",
       "      <td>2.0</td>\n",
       "      <td>4.0</td>\n",
       "      <td>NaN</td>\n",
       "      <td>NaN</td>\n",
       "      <td>NaN</td>\n",
       "      <td>NaN</td>\n",
       "      <td>NaN</td>\n",
       "      <td>NaN</td>\n",
       "      <td>NaN</td>\n",
       "      <td>NaN</td>\n",
       "      <td>NaN</td>\n",
       "      <td>NaN</td>\n",
       "      <td>NaN</td>\n",
       "      <td>6.0</td>\n",
       "      <td>2.0</td>\n",
       "      <td>1.0</td>\n",
       "      <td>NaN</td>\n",
       "      <td>NaN</td>\n",
       "      <td>NaN</td>\n",
       "      <td>NaN</td>\n",
       "      <td>NaN</td>\n",
       "      <td>NaN</td>\n",
       "      <td>19.44</td>\n",
       "      <td>16.67</td>\n",
       "      <td>13.89</td>\n",
       "      <td>22.22</td>\n",
       "      <td>11.11</td>\n",
       "      <td>16.67</td>\n",
       "      <td>NaN</td>\n",
       "      <td>NaN</td>\n",
       "      <td>NaN</td>\n",
       "      <td>NaN</td>\n",
       "      <td>NaN</td>\n",
       "      <td>NaN</td>\n",
       "      <td>NaN</td>\n",
       "      <td>NaN</td>\n",
       "      <td>NaN</td>\n",
       "      <td>NaN</td>\n",
       "      <td>NaN</td>\n",
       "      <td>NaN</td>\n",
       "      <td>6.0</td>\n",
       "      <td>7.0</td>\n",
       "      <td>8.0</td>\n",
       "      <td>7.0</td>\n",
       "      <td>6.0</td>\n",
       "      <td>NaN</td>\n",
       "      <td>NaN</td>\n",
       "      <td>NaN</td>\n",
       "      <td>NaN</td>\n",
       "      <td>NaN</td>\n",
       "      <td>1.0</td>\n",
       "      <td>1.0</td>\n",
       "      <td>0.0</td>\n",
       "      <td>NaN</td>\n",
       "      <td>NaN</td>\n",
       "      <td>15.0</td>\n",
       "      <td>20.0</td>\n",
       "      <td>20.0</td>\n",
       "      <td>15.0</td>\n",
       "      <td>15.0</td>\n",
       "      <td>15.0</td>\n",
       "      <td>NaN</td>\n",
       "      <td>NaN</td>\n",
       "      <td>NaN</td>\n",
       "      <td>NaN</td>\n",
       "      <td>NaN</td>\n",
       "      <td>NaN</td>\n",
       "      <td>NaN</td>\n",
       "      <td>NaN</td>\n",
       "      <td>NaN</td>\n",
       "      <td>NaN</td>\n",
       "      <td>NaN</td>\n",
       "      <td>NaN</td>\n",
       "      <td>NaN</td>\n",
       "      <td>NaN</td>\n",
       "      <td>NaN</td>\n",
       "      <td>NaN</td>\n",
       "      <td>NaN</td>\n",
       "      <td>NaN</td>\n",
       "      <td>5.0</td>\n",
       "      <td>7.0</td>\n",
       "      <td>7.0</td>\n",
       "      <td>7.0</td>\n",
       "      <td>7.0</td>\n",
       "      <td>NaN</td>\n",
       "      <td>NaN</td>\n",
       "      <td>NaN</td>\n",
       "      <td>NaN</td>\n",
       "      <td>NaN</td>\n",
       "    </tr>\n",
       "    <tr>\n",
       "      <th>1</th>\n",
       "      <td>1</td>\n",
       "      <td>1.0</td>\n",
       "      <td>0</td>\n",
       "      <td>1</td>\n",
       "      <td>1</td>\n",
       "      <td>1</td>\n",
       "      <td>10</td>\n",
       "      <td>7</td>\n",
       "      <td>NaN</td>\n",
       "      <td>3</td>\n",
       "      <td>2</td>\n",
       "      <td>12.0</td>\n",
       "      <td>0</td>\n",
       "      <td>0.54</td>\n",
       "      <td>0</td>\n",
       "      <td>22.0</td>\n",
       "      <td>2.0</td>\n",
       "      <td>60.0</td>\n",
       "      <td>0.0</td>\n",
       "      <td>0.0</td>\n",
       "      <td>40.0</td>\n",
       "      <td>0.0</td>\n",
       "      <td>0.0</td>\n",
       "      <td>0</td>\n",
       "      <td>7.0</td>\n",
       "      <td>8.0</td>\n",
       "      <td>10.0</td>\n",
       "      <td>7.0</td>\n",
       "      <td>7.0</td>\n",
       "      <td>5.0</td>\n",
       "      <td>8.0</td>\n",
       "      <td>4.0</td>\n",
       "      <td>2.0</td>\n",
       "      <td>21.0</td>\n",
       "      <td>Law</td>\n",
       "      <td>1.0</td>\n",
       "      <td>NaN</td>\n",
       "      <td>NaN</td>\n",
       "      <td>NaN</td>\n",
       "      <td>4.0</td>\n",
       "      <td>2.0</td>\n",
       "      <td>4.0</td>\n",
       "      <td>Chicago</td>\n",
       "      <td>60,521</td>\n",
       "      <td>69,487.00</td>\n",
       "      <td>2.0</td>\n",
       "      <td>7.0</td>\n",
       "      <td>1.0</td>\n",
       "      <td>lawyer</td>\n",
       "      <td>NaN</td>\n",
       "      <td>9.0</td>\n",
       "      <td>2.0</td>\n",
       "      <td>8.0</td>\n",
       "      <td>9.0</td>\n",
       "      <td>1.0</td>\n",
       "      <td>1.0</td>\n",
       "      <td>5.0</td>\n",
       "      <td>1.0</td>\n",
       "      <td>5.0</td>\n",
       "      <td>6.0</td>\n",
       "      <td>9.0</td>\n",
       "      <td>1.0</td>\n",
       "      <td>10.0</td>\n",
       "      <td>10.0</td>\n",
       "      <td>9.0</td>\n",
       "      <td>8.0</td>\n",
       "      <td>1.0</td>\n",
       "      <td>3.0</td>\n",
       "      <td>2.0</td>\n",
       "      <td>15.0</td>\n",
       "      <td>20.0</td>\n",
       "      <td>20.0</td>\n",
       "      <td>15.0</td>\n",
       "      <td>15.0</td>\n",
       "      <td>15.0</td>\n",
       "      <td>NaN</td>\n",
       "      <td>NaN</td>\n",
       "      <td>NaN</td>\n",
       "      <td>NaN</td>\n",
       "      <td>NaN</td>\n",
       "      <td>NaN</td>\n",
       "      <td>35.0</td>\n",
       "      <td>20.0</td>\n",
       "      <td>15.0</td>\n",
       "      <td>20.0</td>\n",
       "      <td>5.0</td>\n",
       "      <td>5.0</td>\n",
       "      <td>6.0</td>\n",
       "      <td>8.0</td>\n",
       "      <td>8.0</td>\n",
       "      <td>8.0</td>\n",
       "      <td>7.0</td>\n",
       "      <td>NaN</td>\n",
       "      <td>NaN</td>\n",
       "      <td>NaN</td>\n",
       "      <td>NaN</td>\n",
       "      <td>NaN</td>\n",
       "      <td>1</td>\n",
       "      <td>7.0</td>\n",
       "      <td>8.0</td>\n",
       "      <td>7.0</td>\n",
       "      <td>8.0</td>\n",
       "      <td>5.0</td>\n",
       "      <td>6.0</td>\n",
       "      <td>7.0</td>\n",
       "      <td>5.0</td>\n",
       "      <td>1.0</td>\n",
       "      <td>4.0</td>\n",
       "      <td>NaN</td>\n",
       "      <td>NaN</td>\n",
       "      <td>NaN</td>\n",
       "      <td>NaN</td>\n",
       "      <td>NaN</td>\n",
       "      <td>NaN</td>\n",
       "      <td>NaN</td>\n",
       "      <td>NaN</td>\n",
       "      <td>NaN</td>\n",
       "      <td>NaN</td>\n",
       "      <td>NaN</td>\n",
       "      <td>6.0</td>\n",
       "      <td>2.0</td>\n",
       "      <td>1.0</td>\n",
       "      <td>NaN</td>\n",
       "      <td>NaN</td>\n",
       "      <td>NaN</td>\n",
       "      <td>NaN</td>\n",
       "      <td>NaN</td>\n",
       "      <td>NaN</td>\n",
       "      <td>19.44</td>\n",
       "      <td>16.67</td>\n",
       "      <td>13.89</td>\n",
       "      <td>22.22</td>\n",
       "      <td>11.11</td>\n",
       "      <td>16.67</td>\n",
       "      <td>NaN</td>\n",
       "      <td>NaN</td>\n",
       "      <td>NaN</td>\n",
       "      <td>NaN</td>\n",
       "      <td>NaN</td>\n",
       "      <td>NaN</td>\n",
       "      <td>NaN</td>\n",
       "      <td>NaN</td>\n",
       "      <td>NaN</td>\n",
       "      <td>NaN</td>\n",
       "      <td>NaN</td>\n",
       "      <td>NaN</td>\n",
       "      <td>6.0</td>\n",
       "      <td>7.0</td>\n",
       "      <td>8.0</td>\n",
       "      <td>7.0</td>\n",
       "      <td>6.0</td>\n",
       "      <td>NaN</td>\n",
       "      <td>NaN</td>\n",
       "      <td>NaN</td>\n",
       "      <td>NaN</td>\n",
       "      <td>NaN</td>\n",
       "      <td>1.0</td>\n",
       "      <td>1.0</td>\n",
       "      <td>0.0</td>\n",
       "      <td>NaN</td>\n",
       "      <td>NaN</td>\n",
       "      <td>15.0</td>\n",
       "      <td>20.0</td>\n",
       "      <td>20.0</td>\n",
       "      <td>15.0</td>\n",
       "      <td>15.0</td>\n",
       "      <td>15.0</td>\n",
       "      <td>NaN</td>\n",
       "      <td>NaN</td>\n",
       "      <td>NaN</td>\n",
       "      <td>NaN</td>\n",
       "      <td>NaN</td>\n",
       "      <td>NaN</td>\n",
       "      <td>NaN</td>\n",
       "      <td>NaN</td>\n",
       "      <td>NaN</td>\n",
       "      <td>NaN</td>\n",
       "      <td>NaN</td>\n",
       "      <td>NaN</td>\n",
       "      <td>NaN</td>\n",
       "      <td>NaN</td>\n",
       "      <td>NaN</td>\n",
       "      <td>NaN</td>\n",
       "      <td>NaN</td>\n",
       "      <td>NaN</td>\n",
       "      <td>5.0</td>\n",
       "      <td>7.0</td>\n",
       "      <td>7.0</td>\n",
       "      <td>7.0</td>\n",
       "      <td>7.0</td>\n",
       "      <td>NaN</td>\n",
       "      <td>NaN</td>\n",
       "      <td>NaN</td>\n",
       "      <td>NaN</td>\n",
       "      <td>NaN</td>\n",
       "    </tr>\n",
       "    <tr>\n",
       "      <th>2</th>\n",
       "      <td>1</td>\n",
       "      <td>1.0</td>\n",
       "      <td>0</td>\n",
       "      <td>1</td>\n",
       "      <td>1</td>\n",
       "      <td>1</td>\n",
       "      <td>10</td>\n",
       "      <td>7</td>\n",
       "      <td>NaN</td>\n",
       "      <td>10</td>\n",
       "      <td>3</td>\n",
       "      <td>13.0</td>\n",
       "      <td>1</td>\n",
       "      <td>0.16</td>\n",
       "      <td>1</td>\n",
       "      <td>22.0</td>\n",
       "      <td>4.0</td>\n",
       "      <td>19.0</td>\n",
       "      <td>18.0</td>\n",
       "      <td>19.0</td>\n",
       "      <td>18.0</td>\n",
       "      <td>14.0</td>\n",
       "      <td>12.0</td>\n",
       "      <td>1</td>\n",
       "      <td>10.0</td>\n",
       "      <td>10.0</td>\n",
       "      <td>10.0</td>\n",
       "      <td>10.0</td>\n",
       "      <td>10.0</td>\n",
       "      <td>10.0</td>\n",
       "      <td>10.0</td>\n",
       "      <td>10.0</td>\n",
       "      <td>1.0</td>\n",
       "      <td>21.0</td>\n",
       "      <td>Law</td>\n",
       "      <td>1.0</td>\n",
       "      <td>NaN</td>\n",
       "      <td>NaN</td>\n",
       "      <td>NaN</td>\n",
       "      <td>4.0</td>\n",
       "      <td>2.0</td>\n",
       "      <td>4.0</td>\n",
       "      <td>Chicago</td>\n",
       "      <td>60,521</td>\n",
       "      <td>69,487.00</td>\n",
       "      <td>2.0</td>\n",
       "      <td>7.0</td>\n",
       "      <td>1.0</td>\n",
       "      <td>lawyer</td>\n",
       "      <td>NaN</td>\n",
       "      <td>9.0</td>\n",
       "      <td>2.0</td>\n",
       "      <td>8.0</td>\n",
       "      <td>9.0</td>\n",
       "      <td>1.0</td>\n",
       "      <td>1.0</td>\n",
       "      <td>5.0</td>\n",
       "      <td>1.0</td>\n",
       "      <td>5.0</td>\n",
       "      <td>6.0</td>\n",
       "      <td>9.0</td>\n",
       "      <td>1.0</td>\n",
       "      <td>10.0</td>\n",
       "      <td>10.0</td>\n",
       "      <td>9.0</td>\n",
       "      <td>8.0</td>\n",
       "      <td>1.0</td>\n",
       "      <td>3.0</td>\n",
       "      <td>2.0</td>\n",
       "      <td>15.0</td>\n",
       "      <td>20.0</td>\n",
       "      <td>20.0</td>\n",
       "      <td>15.0</td>\n",
       "      <td>15.0</td>\n",
       "      <td>15.0</td>\n",
       "      <td>NaN</td>\n",
       "      <td>NaN</td>\n",
       "      <td>NaN</td>\n",
       "      <td>NaN</td>\n",
       "      <td>NaN</td>\n",
       "      <td>NaN</td>\n",
       "      <td>35.0</td>\n",
       "      <td>20.0</td>\n",
       "      <td>15.0</td>\n",
       "      <td>20.0</td>\n",
       "      <td>5.0</td>\n",
       "      <td>5.0</td>\n",
       "      <td>6.0</td>\n",
       "      <td>8.0</td>\n",
       "      <td>8.0</td>\n",
       "      <td>8.0</td>\n",
       "      <td>7.0</td>\n",
       "      <td>NaN</td>\n",
       "      <td>NaN</td>\n",
       "      <td>NaN</td>\n",
       "      <td>NaN</td>\n",
       "      <td>NaN</td>\n",
       "      <td>1</td>\n",
       "      <td>5.0</td>\n",
       "      <td>8.0</td>\n",
       "      <td>9.0</td>\n",
       "      <td>8.0</td>\n",
       "      <td>5.0</td>\n",
       "      <td>7.0</td>\n",
       "      <td>7.0</td>\n",
       "      <td>NaN</td>\n",
       "      <td>1.0</td>\n",
       "      <td>4.0</td>\n",
       "      <td>NaN</td>\n",
       "      <td>NaN</td>\n",
       "      <td>NaN</td>\n",
       "      <td>NaN</td>\n",
       "      <td>NaN</td>\n",
       "      <td>NaN</td>\n",
       "      <td>NaN</td>\n",
       "      <td>NaN</td>\n",
       "      <td>NaN</td>\n",
       "      <td>NaN</td>\n",
       "      <td>NaN</td>\n",
       "      <td>6.0</td>\n",
       "      <td>2.0</td>\n",
       "      <td>1.0</td>\n",
       "      <td>NaN</td>\n",
       "      <td>NaN</td>\n",
       "      <td>NaN</td>\n",
       "      <td>NaN</td>\n",
       "      <td>NaN</td>\n",
       "      <td>NaN</td>\n",
       "      <td>19.44</td>\n",
       "      <td>16.67</td>\n",
       "      <td>13.89</td>\n",
       "      <td>22.22</td>\n",
       "      <td>11.11</td>\n",
       "      <td>16.67</td>\n",
       "      <td>NaN</td>\n",
       "      <td>NaN</td>\n",
       "      <td>NaN</td>\n",
       "      <td>NaN</td>\n",
       "      <td>NaN</td>\n",
       "      <td>NaN</td>\n",
       "      <td>NaN</td>\n",
       "      <td>NaN</td>\n",
       "      <td>NaN</td>\n",
       "      <td>NaN</td>\n",
       "      <td>NaN</td>\n",
       "      <td>NaN</td>\n",
       "      <td>6.0</td>\n",
       "      <td>7.0</td>\n",
       "      <td>8.0</td>\n",
       "      <td>7.0</td>\n",
       "      <td>6.0</td>\n",
       "      <td>NaN</td>\n",
       "      <td>NaN</td>\n",
       "      <td>NaN</td>\n",
       "      <td>NaN</td>\n",
       "      <td>NaN</td>\n",
       "      <td>1.0</td>\n",
       "      <td>1.0</td>\n",
       "      <td>0.0</td>\n",
       "      <td>NaN</td>\n",
       "      <td>NaN</td>\n",
       "      <td>15.0</td>\n",
       "      <td>20.0</td>\n",
       "      <td>20.0</td>\n",
       "      <td>15.0</td>\n",
       "      <td>15.0</td>\n",
       "      <td>15.0</td>\n",
       "      <td>NaN</td>\n",
       "      <td>NaN</td>\n",
       "      <td>NaN</td>\n",
       "      <td>NaN</td>\n",
       "      <td>NaN</td>\n",
       "      <td>NaN</td>\n",
       "      <td>NaN</td>\n",
       "      <td>NaN</td>\n",
       "      <td>NaN</td>\n",
       "      <td>NaN</td>\n",
       "      <td>NaN</td>\n",
       "      <td>NaN</td>\n",
       "      <td>NaN</td>\n",
       "      <td>NaN</td>\n",
       "      <td>NaN</td>\n",
       "      <td>NaN</td>\n",
       "      <td>NaN</td>\n",
       "      <td>NaN</td>\n",
       "      <td>5.0</td>\n",
       "      <td>7.0</td>\n",
       "      <td>7.0</td>\n",
       "      <td>7.0</td>\n",
       "      <td>7.0</td>\n",
       "      <td>NaN</td>\n",
       "      <td>NaN</td>\n",
       "      <td>NaN</td>\n",
       "      <td>NaN</td>\n",
       "      <td>NaN</td>\n",
       "    </tr>\n",
       "    <tr>\n",
       "      <th>3</th>\n",
       "      <td>1</td>\n",
       "      <td>1.0</td>\n",
       "      <td>0</td>\n",
       "      <td>1</td>\n",
       "      <td>1</td>\n",
       "      <td>1</td>\n",
       "      <td>10</td>\n",
       "      <td>7</td>\n",
       "      <td>NaN</td>\n",
       "      <td>5</td>\n",
       "      <td>4</td>\n",
       "      <td>14.0</td>\n",
       "      <td>1</td>\n",
       "      <td>0.61</td>\n",
       "      <td>0</td>\n",
       "      <td>23.0</td>\n",
       "      <td>2.0</td>\n",
       "      <td>30.0</td>\n",
       "      <td>5.0</td>\n",
       "      <td>15.0</td>\n",
       "      <td>40.0</td>\n",
       "      <td>5.0</td>\n",
       "      <td>5.0</td>\n",
       "      <td>1</td>\n",
       "      <td>7.0</td>\n",
       "      <td>8.0</td>\n",
       "      <td>9.0</td>\n",
       "      <td>8.0</td>\n",
       "      <td>9.0</td>\n",
       "      <td>8.0</td>\n",
       "      <td>7.0</td>\n",
       "      <td>7.0</td>\n",
       "      <td>2.0</td>\n",
       "      <td>21.0</td>\n",
       "      <td>Law</td>\n",
       "      <td>1.0</td>\n",
       "      <td>NaN</td>\n",
       "      <td>NaN</td>\n",
       "      <td>NaN</td>\n",
       "      <td>4.0</td>\n",
       "      <td>2.0</td>\n",
       "      <td>4.0</td>\n",
       "      <td>Chicago</td>\n",
       "      <td>60,521</td>\n",
       "      <td>69,487.00</td>\n",
       "      <td>2.0</td>\n",
       "      <td>7.0</td>\n",
       "      <td>1.0</td>\n",
       "      <td>lawyer</td>\n",
       "      <td>NaN</td>\n",
       "      <td>9.0</td>\n",
       "      <td>2.0</td>\n",
       "      <td>8.0</td>\n",
       "      <td>9.0</td>\n",
       "      <td>1.0</td>\n",
       "      <td>1.0</td>\n",
       "      <td>5.0</td>\n",
       "      <td>1.0</td>\n",
       "      <td>5.0</td>\n",
       "      <td>6.0</td>\n",
       "      <td>9.0</td>\n",
       "      <td>1.0</td>\n",
       "      <td>10.0</td>\n",
       "      <td>10.0</td>\n",
       "      <td>9.0</td>\n",
       "      <td>8.0</td>\n",
       "      <td>1.0</td>\n",
       "      <td>3.0</td>\n",
       "      <td>2.0</td>\n",
       "      <td>15.0</td>\n",
       "      <td>20.0</td>\n",
       "      <td>20.0</td>\n",
       "      <td>15.0</td>\n",
       "      <td>15.0</td>\n",
       "      <td>15.0</td>\n",
       "      <td>NaN</td>\n",
       "      <td>NaN</td>\n",
       "      <td>NaN</td>\n",
       "      <td>NaN</td>\n",
       "      <td>NaN</td>\n",
       "      <td>NaN</td>\n",
       "      <td>35.0</td>\n",
       "      <td>20.0</td>\n",
       "      <td>15.0</td>\n",
       "      <td>20.0</td>\n",
       "      <td>5.0</td>\n",
       "      <td>5.0</td>\n",
       "      <td>6.0</td>\n",
       "      <td>8.0</td>\n",
       "      <td>8.0</td>\n",
       "      <td>8.0</td>\n",
       "      <td>7.0</td>\n",
       "      <td>NaN</td>\n",
       "      <td>NaN</td>\n",
       "      <td>NaN</td>\n",
       "      <td>NaN</td>\n",
       "      <td>NaN</td>\n",
       "      <td>1</td>\n",
       "      <td>7.0</td>\n",
       "      <td>6.0</td>\n",
       "      <td>8.0</td>\n",
       "      <td>7.0</td>\n",
       "      <td>6.0</td>\n",
       "      <td>8.0</td>\n",
       "      <td>7.0</td>\n",
       "      <td>6.0</td>\n",
       "      <td>2.0</td>\n",
       "      <td>4.0</td>\n",
       "      <td>NaN</td>\n",
       "      <td>NaN</td>\n",
       "      <td>NaN</td>\n",
       "      <td>NaN</td>\n",
       "      <td>NaN</td>\n",
       "      <td>NaN</td>\n",
       "      <td>NaN</td>\n",
       "      <td>NaN</td>\n",
       "      <td>NaN</td>\n",
       "      <td>NaN</td>\n",
       "      <td>NaN</td>\n",
       "      <td>6.0</td>\n",
       "      <td>2.0</td>\n",
       "      <td>1.0</td>\n",
       "      <td>NaN</td>\n",
       "      <td>NaN</td>\n",
       "      <td>NaN</td>\n",
       "      <td>NaN</td>\n",
       "      <td>NaN</td>\n",
       "      <td>NaN</td>\n",
       "      <td>19.44</td>\n",
       "      <td>16.67</td>\n",
       "      <td>13.89</td>\n",
       "      <td>22.22</td>\n",
       "      <td>11.11</td>\n",
       "      <td>16.67</td>\n",
       "      <td>NaN</td>\n",
       "      <td>NaN</td>\n",
       "      <td>NaN</td>\n",
       "      <td>NaN</td>\n",
       "      <td>NaN</td>\n",
       "      <td>NaN</td>\n",
       "      <td>NaN</td>\n",
       "      <td>NaN</td>\n",
       "      <td>NaN</td>\n",
       "      <td>NaN</td>\n",
       "      <td>NaN</td>\n",
       "      <td>NaN</td>\n",
       "      <td>6.0</td>\n",
       "      <td>7.0</td>\n",
       "      <td>8.0</td>\n",
       "      <td>7.0</td>\n",
       "      <td>6.0</td>\n",
       "      <td>NaN</td>\n",
       "      <td>NaN</td>\n",
       "      <td>NaN</td>\n",
       "      <td>NaN</td>\n",
       "      <td>NaN</td>\n",
       "      <td>1.0</td>\n",
       "      <td>1.0</td>\n",
       "      <td>0.0</td>\n",
       "      <td>NaN</td>\n",
       "      <td>NaN</td>\n",
       "      <td>15.0</td>\n",
       "      <td>20.0</td>\n",
       "      <td>20.0</td>\n",
       "      <td>15.0</td>\n",
       "      <td>15.0</td>\n",
       "      <td>15.0</td>\n",
       "      <td>NaN</td>\n",
       "      <td>NaN</td>\n",
       "      <td>NaN</td>\n",
       "      <td>NaN</td>\n",
       "      <td>NaN</td>\n",
       "      <td>NaN</td>\n",
       "      <td>NaN</td>\n",
       "      <td>NaN</td>\n",
       "      <td>NaN</td>\n",
       "      <td>NaN</td>\n",
       "      <td>NaN</td>\n",
       "      <td>NaN</td>\n",
       "      <td>NaN</td>\n",
       "      <td>NaN</td>\n",
       "      <td>NaN</td>\n",
       "      <td>NaN</td>\n",
       "      <td>NaN</td>\n",
       "      <td>NaN</td>\n",
       "      <td>5.0</td>\n",
       "      <td>7.0</td>\n",
       "      <td>7.0</td>\n",
       "      <td>7.0</td>\n",
       "      <td>7.0</td>\n",
       "      <td>NaN</td>\n",
       "      <td>NaN</td>\n",
       "      <td>NaN</td>\n",
       "      <td>NaN</td>\n",
       "      <td>NaN</td>\n",
       "    </tr>\n",
       "    <tr>\n",
       "      <th>4</th>\n",
       "      <td>1</td>\n",
       "      <td>1.0</td>\n",
       "      <td>0</td>\n",
       "      <td>1</td>\n",
       "      <td>1</td>\n",
       "      <td>1</td>\n",
       "      <td>10</td>\n",
       "      <td>7</td>\n",
       "      <td>NaN</td>\n",
       "      <td>7</td>\n",
       "      <td>5</td>\n",
       "      <td>15.0</td>\n",
       "      <td>1</td>\n",
       "      <td>0.21</td>\n",
       "      <td>0</td>\n",
       "      <td>24.0</td>\n",
       "      <td>3.0</td>\n",
       "      <td>30.0</td>\n",
       "      <td>10.0</td>\n",
       "      <td>20.0</td>\n",
       "      <td>10.0</td>\n",
       "      <td>10.0</td>\n",
       "      <td>20.0</td>\n",
       "      <td>1</td>\n",
       "      <td>8.0</td>\n",
       "      <td>7.0</td>\n",
       "      <td>9.0</td>\n",
       "      <td>6.0</td>\n",
       "      <td>9.0</td>\n",
       "      <td>7.0</td>\n",
       "      <td>8.0</td>\n",
       "      <td>6.0</td>\n",
       "      <td>2.0</td>\n",
       "      <td>21.0</td>\n",
       "      <td>Law</td>\n",
       "      <td>1.0</td>\n",
       "      <td>NaN</td>\n",
       "      <td>NaN</td>\n",
       "      <td>NaN</td>\n",
       "      <td>4.0</td>\n",
       "      <td>2.0</td>\n",
       "      <td>4.0</td>\n",
       "      <td>Chicago</td>\n",
       "      <td>60,521</td>\n",
       "      <td>69,487.00</td>\n",
       "      <td>2.0</td>\n",
       "      <td>7.0</td>\n",
       "      <td>1.0</td>\n",
       "      <td>lawyer</td>\n",
       "      <td>NaN</td>\n",
       "      <td>9.0</td>\n",
       "      <td>2.0</td>\n",
       "      <td>8.0</td>\n",
       "      <td>9.0</td>\n",
       "      <td>1.0</td>\n",
       "      <td>1.0</td>\n",
       "      <td>5.0</td>\n",
       "      <td>1.0</td>\n",
       "      <td>5.0</td>\n",
       "      <td>6.0</td>\n",
       "      <td>9.0</td>\n",
       "      <td>1.0</td>\n",
       "      <td>10.0</td>\n",
       "      <td>10.0</td>\n",
       "      <td>9.0</td>\n",
       "      <td>8.0</td>\n",
       "      <td>1.0</td>\n",
       "      <td>3.0</td>\n",
       "      <td>2.0</td>\n",
       "      <td>15.0</td>\n",
       "      <td>20.0</td>\n",
       "      <td>20.0</td>\n",
       "      <td>15.0</td>\n",
       "      <td>15.0</td>\n",
       "      <td>15.0</td>\n",
       "      <td>NaN</td>\n",
       "      <td>NaN</td>\n",
       "      <td>NaN</td>\n",
       "      <td>NaN</td>\n",
       "      <td>NaN</td>\n",
       "      <td>NaN</td>\n",
       "      <td>35.0</td>\n",
       "      <td>20.0</td>\n",
       "      <td>15.0</td>\n",
       "      <td>20.0</td>\n",
       "      <td>5.0</td>\n",
       "      <td>5.0</td>\n",
       "      <td>6.0</td>\n",
       "      <td>8.0</td>\n",
       "      <td>8.0</td>\n",
       "      <td>8.0</td>\n",
       "      <td>7.0</td>\n",
       "      <td>NaN</td>\n",
       "      <td>NaN</td>\n",
       "      <td>NaN</td>\n",
       "      <td>NaN</td>\n",
       "      <td>NaN</td>\n",
       "      <td>1</td>\n",
       "      <td>5.0</td>\n",
       "      <td>6.0</td>\n",
       "      <td>7.0</td>\n",
       "      <td>7.0</td>\n",
       "      <td>6.0</td>\n",
       "      <td>6.0</td>\n",
       "      <td>6.0</td>\n",
       "      <td>6.0</td>\n",
       "      <td>2.0</td>\n",
       "      <td>4.0</td>\n",
       "      <td>NaN</td>\n",
       "      <td>NaN</td>\n",
       "      <td>NaN</td>\n",
       "      <td>NaN</td>\n",
       "      <td>NaN</td>\n",
       "      <td>NaN</td>\n",
       "      <td>NaN</td>\n",
       "      <td>NaN</td>\n",
       "      <td>NaN</td>\n",
       "      <td>NaN</td>\n",
       "      <td>NaN</td>\n",
       "      <td>6.0</td>\n",
       "      <td>2.0</td>\n",
       "      <td>1.0</td>\n",
       "      <td>NaN</td>\n",
       "      <td>NaN</td>\n",
       "      <td>NaN</td>\n",
       "      <td>NaN</td>\n",
       "      <td>NaN</td>\n",
       "      <td>NaN</td>\n",
       "      <td>19.44</td>\n",
       "      <td>16.67</td>\n",
       "      <td>13.89</td>\n",
       "      <td>22.22</td>\n",
       "      <td>11.11</td>\n",
       "      <td>16.67</td>\n",
       "      <td>NaN</td>\n",
       "      <td>NaN</td>\n",
       "      <td>NaN</td>\n",
       "      <td>NaN</td>\n",
       "      <td>NaN</td>\n",
       "      <td>NaN</td>\n",
       "      <td>NaN</td>\n",
       "      <td>NaN</td>\n",
       "      <td>NaN</td>\n",
       "      <td>NaN</td>\n",
       "      <td>NaN</td>\n",
       "      <td>NaN</td>\n",
       "      <td>6.0</td>\n",
       "      <td>7.0</td>\n",
       "      <td>8.0</td>\n",
       "      <td>7.0</td>\n",
       "      <td>6.0</td>\n",
       "      <td>NaN</td>\n",
       "      <td>NaN</td>\n",
       "      <td>NaN</td>\n",
       "      <td>NaN</td>\n",
       "      <td>NaN</td>\n",
       "      <td>1.0</td>\n",
       "      <td>1.0</td>\n",
       "      <td>0.0</td>\n",
       "      <td>NaN</td>\n",
       "      <td>NaN</td>\n",
       "      <td>15.0</td>\n",
       "      <td>20.0</td>\n",
       "      <td>20.0</td>\n",
       "      <td>15.0</td>\n",
       "      <td>15.0</td>\n",
       "      <td>15.0</td>\n",
       "      <td>NaN</td>\n",
       "      <td>NaN</td>\n",
       "      <td>NaN</td>\n",
       "      <td>NaN</td>\n",
       "      <td>NaN</td>\n",
       "      <td>NaN</td>\n",
       "      <td>NaN</td>\n",
       "      <td>NaN</td>\n",
       "      <td>NaN</td>\n",
       "      <td>NaN</td>\n",
       "      <td>NaN</td>\n",
       "      <td>NaN</td>\n",
       "      <td>NaN</td>\n",
       "      <td>NaN</td>\n",
       "      <td>NaN</td>\n",
       "      <td>NaN</td>\n",
       "      <td>NaN</td>\n",
       "      <td>NaN</td>\n",
       "      <td>5.0</td>\n",
       "      <td>7.0</td>\n",
       "      <td>7.0</td>\n",
       "      <td>7.0</td>\n",
       "      <td>7.0</td>\n",
       "      <td>NaN</td>\n",
       "      <td>NaN</td>\n",
       "      <td>NaN</td>\n",
       "      <td>NaN</td>\n",
       "      <td>NaN</td>\n",
       "    </tr>\n",
       "  </tbody>\n",
       "</table>\n",
       "</div>"
      ],
      "text/plain": [
       "   iid   id  gender  idg  condtn  wave  round  position  positin1  order  \\\n",
       "0    1  1.0       0    1       1     1     10         7       NaN      4   \n",
       "1    1  1.0       0    1       1     1     10         7       NaN      3   \n",
       "2    1  1.0       0    1       1     1     10         7       NaN     10   \n",
       "3    1  1.0       0    1       1     1     10         7       NaN      5   \n",
       "4    1  1.0       0    1       1     1     10         7       NaN      7   \n",
       "\n",
       "   partner   pid  match  int_corr  samerace  age_o  race_o  pf_o_att  \\\n",
       "0        1  11.0      0      0.14         0   27.0     2.0      35.0   \n",
       "1        2  12.0      0      0.54         0   22.0     2.0      60.0   \n",
       "2        3  13.0      1      0.16         1   22.0     4.0      19.0   \n",
       "3        4  14.0      1      0.61         0   23.0     2.0      30.0   \n",
       "4        5  15.0      1      0.21         0   24.0     3.0      30.0   \n",
       "\n",
       "   pf_o_sin  pf_o_int  pf_o_fun  pf_o_amb  pf_o_sha  dec_o  attr_o  sinc_o  \\\n",
       "0      20.0      20.0      20.0       0.0       5.0      0     6.0     8.0   \n",
       "1       0.0       0.0      40.0       0.0       0.0      0     7.0     8.0   \n",
       "2      18.0      19.0      18.0      14.0      12.0      1    10.0    10.0   \n",
       "3       5.0      15.0      40.0       5.0       5.0      1     7.0     8.0   \n",
       "4      10.0      20.0      10.0      10.0      20.0      1     8.0     7.0   \n",
       "\n",
       "   intel_o  fun_o  amb_o  shar_o  like_o  prob_o  met_o   age field  field_cd  \\\n",
       "0      8.0    8.0    8.0     6.0     7.0     4.0    2.0  21.0   Law       1.0   \n",
       "1     10.0    7.0    7.0     5.0     8.0     4.0    2.0  21.0   Law       1.0   \n",
       "2     10.0   10.0   10.0    10.0    10.0    10.0    1.0  21.0   Law       1.0   \n",
       "3      9.0    8.0    9.0     8.0     7.0     7.0    2.0  21.0   Law       1.0   \n",
       "4      9.0    6.0    9.0     7.0     8.0     6.0    2.0  21.0   Law       1.0   \n",
       "\n",
       "  undergra mn_sat tuition  race  imprace  imprelig     from zipcode  \\\n",
       "0      NaN    NaN     NaN   4.0      2.0       4.0  Chicago  60,521   \n",
       "1      NaN    NaN     NaN   4.0      2.0       4.0  Chicago  60,521   \n",
       "2      NaN    NaN     NaN   4.0      2.0       4.0  Chicago  60,521   \n",
       "3      NaN    NaN     NaN   4.0      2.0       4.0  Chicago  60,521   \n",
       "4      NaN    NaN     NaN   4.0      2.0       4.0  Chicago  60,521   \n",
       "\n",
       "      income  goal  date  go_out  career  career_c  sports  tvsports  \\\n",
       "0  69,487.00   2.0   7.0     1.0  lawyer       NaN     9.0       2.0   \n",
       "1  69,487.00   2.0   7.0     1.0  lawyer       NaN     9.0       2.0   \n",
       "2  69,487.00   2.0   7.0     1.0  lawyer       NaN     9.0       2.0   \n",
       "3  69,487.00   2.0   7.0     1.0  lawyer       NaN     9.0       2.0   \n",
       "4  69,487.00   2.0   7.0     1.0  lawyer       NaN     9.0       2.0   \n",
       "\n",
       "   exercise  dining  museums  art  hiking  gaming  clubbing  reading   tv  \\\n",
       "0       8.0     9.0      1.0  1.0     5.0     1.0       5.0      6.0  9.0   \n",
       "1       8.0     9.0      1.0  1.0     5.0     1.0       5.0      6.0  9.0   \n",
       "2       8.0     9.0      1.0  1.0     5.0     1.0       5.0      6.0  9.0   \n",
       "3       8.0     9.0      1.0  1.0     5.0     1.0       5.0      6.0  9.0   \n",
       "4       8.0     9.0      1.0  1.0     5.0     1.0       5.0      6.0  9.0   \n",
       "\n",
       "   theater  movies  concerts  music  shopping  yoga  exphappy  expnum  \\\n",
       "0      1.0    10.0      10.0    9.0       8.0   1.0       3.0     2.0   \n",
       "1      1.0    10.0      10.0    9.0       8.0   1.0       3.0     2.0   \n",
       "2      1.0    10.0      10.0    9.0       8.0   1.0       3.0     2.0   \n",
       "3      1.0    10.0      10.0    9.0       8.0   1.0       3.0     2.0   \n",
       "4      1.0    10.0      10.0    9.0       8.0   1.0       3.0     2.0   \n",
       "\n",
       "   attr1_1  sinc1_1  intel1_1  fun1_1  amb1_1  shar1_1  attr4_1  sinc4_1  \\\n",
       "0     15.0     20.0      20.0    15.0    15.0     15.0      NaN      NaN   \n",
       "1     15.0     20.0      20.0    15.0    15.0     15.0      NaN      NaN   \n",
       "2     15.0     20.0      20.0    15.0    15.0     15.0      NaN      NaN   \n",
       "3     15.0     20.0      20.0    15.0    15.0     15.0      NaN      NaN   \n",
       "4     15.0     20.0      20.0    15.0    15.0     15.0      NaN      NaN   \n",
       "\n",
       "   intel4_1  fun4_1  amb4_1  shar4_1  attr2_1  sinc2_1  intel2_1  fun2_1  \\\n",
       "0       NaN     NaN     NaN      NaN     35.0     20.0      15.0    20.0   \n",
       "1       NaN     NaN     NaN      NaN     35.0     20.0      15.0    20.0   \n",
       "2       NaN     NaN     NaN      NaN     35.0     20.0      15.0    20.0   \n",
       "3       NaN     NaN     NaN      NaN     35.0     20.0      15.0    20.0   \n",
       "4       NaN     NaN     NaN      NaN     35.0     20.0      15.0    20.0   \n",
       "\n",
       "   amb2_1  shar2_1  attr3_1  sinc3_1  fun3_1  intel3_1  amb3_1  attr5_1  \\\n",
       "0     5.0      5.0      6.0      8.0     8.0       8.0     7.0      NaN   \n",
       "1     5.0      5.0      6.0      8.0     8.0       8.0     7.0      NaN   \n",
       "2     5.0      5.0      6.0      8.0     8.0       8.0     7.0      NaN   \n",
       "3     5.0      5.0      6.0      8.0     8.0       8.0     7.0      NaN   \n",
       "4     5.0      5.0      6.0      8.0     8.0       8.0     7.0      NaN   \n",
       "\n",
       "   sinc5_1  intel5_1  fun5_1  amb5_1  dec  attr  sinc  intel  fun  amb  shar  \\\n",
       "0      NaN       NaN     NaN     NaN    1   6.0   9.0    7.0  7.0  6.0   5.0   \n",
       "1      NaN       NaN     NaN     NaN    1   7.0   8.0    7.0  8.0  5.0   6.0   \n",
       "2      NaN       NaN     NaN     NaN    1   5.0   8.0    9.0  8.0  5.0   7.0   \n",
       "3      NaN       NaN     NaN     NaN    1   7.0   6.0    8.0  7.0  6.0   8.0   \n",
       "4      NaN       NaN     NaN     NaN    1   5.0   6.0    7.0  7.0  6.0   6.0   \n",
       "\n",
       "   like  prob  met  match_es  attr1_s  sinc1_s  intel1_s  fun1_s  amb1_s  \\\n",
       "0   7.0   6.0  2.0       4.0      NaN      NaN       NaN     NaN     NaN   \n",
       "1   7.0   5.0  1.0       4.0      NaN      NaN       NaN     NaN     NaN   \n",
       "2   7.0   NaN  1.0       4.0      NaN      NaN       NaN     NaN     NaN   \n",
       "3   7.0   6.0  2.0       4.0      NaN      NaN       NaN     NaN     NaN   \n",
       "4   6.0   6.0  2.0       4.0      NaN      NaN       NaN     NaN     NaN   \n",
       "\n",
       "   shar1_s  attr3_s  sinc3_s  intel3_s  fun3_s  amb3_s  satis_2  length  \\\n",
       "0      NaN      NaN      NaN       NaN     NaN     NaN      6.0     2.0   \n",
       "1      NaN      NaN      NaN       NaN     NaN     NaN      6.0     2.0   \n",
       "2      NaN      NaN      NaN       NaN     NaN     NaN      6.0     2.0   \n",
       "3      NaN      NaN      NaN       NaN     NaN     NaN      6.0     2.0   \n",
       "4      NaN      NaN      NaN       NaN     NaN     NaN      6.0     2.0   \n",
       "\n",
       "   numdat_2  attr7_2  sinc7_2  intel7_2  fun7_2  amb7_2  shar7_2  attr1_2  \\\n",
       "0       1.0      NaN      NaN       NaN     NaN     NaN      NaN    19.44   \n",
       "1       1.0      NaN      NaN       NaN     NaN     NaN      NaN    19.44   \n",
       "2       1.0      NaN      NaN       NaN     NaN     NaN      NaN    19.44   \n",
       "3       1.0      NaN      NaN       NaN     NaN     NaN      NaN    19.44   \n",
       "4       1.0      NaN      NaN       NaN     NaN     NaN      NaN    19.44   \n",
       "\n",
       "   sinc1_2  intel1_2  fun1_2  amb1_2  shar1_2  attr4_2  sinc4_2  intel4_2  \\\n",
       "0    16.67     13.89   22.22   11.11    16.67      NaN      NaN       NaN   \n",
       "1    16.67     13.89   22.22   11.11    16.67      NaN      NaN       NaN   \n",
       "2    16.67     13.89   22.22   11.11    16.67      NaN      NaN       NaN   \n",
       "3    16.67     13.89   22.22   11.11    16.67      NaN      NaN       NaN   \n",
       "4    16.67     13.89   22.22   11.11    16.67      NaN      NaN       NaN   \n",
       "\n",
       "   fun4_2  amb4_2  shar4_2  attr2_2  sinc2_2  intel2_2  fun2_2  amb2_2  \\\n",
       "0     NaN     NaN      NaN      NaN      NaN       NaN     NaN     NaN   \n",
       "1     NaN     NaN      NaN      NaN      NaN       NaN     NaN     NaN   \n",
       "2     NaN     NaN      NaN      NaN      NaN       NaN     NaN     NaN   \n",
       "3     NaN     NaN      NaN      NaN      NaN       NaN     NaN     NaN   \n",
       "4     NaN     NaN      NaN      NaN      NaN       NaN     NaN     NaN   \n",
       "\n",
       "   shar2_2  attr3_2  sinc3_2  intel3_2  fun3_2  amb3_2  attr5_2  sinc5_2  \\\n",
       "0      NaN      6.0      7.0       8.0     7.0     6.0      NaN      NaN   \n",
       "1      NaN      6.0      7.0       8.0     7.0     6.0      NaN      NaN   \n",
       "2      NaN      6.0      7.0       8.0     7.0     6.0      NaN      NaN   \n",
       "3      NaN      6.0      7.0       8.0     7.0     6.0      NaN      NaN   \n",
       "4      NaN      6.0      7.0       8.0     7.0     6.0      NaN      NaN   \n",
       "\n",
       "   intel5_2  fun5_2  amb5_2  you_call  them_cal  date_3  numdat_3  num_in_3  \\\n",
       "0       NaN     NaN     NaN       1.0       1.0     0.0       NaN       NaN   \n",
       "1       NaN     NaN     NaN       1.0       1.0     0.0       NaN       NaN   \n",
       "2       NaN     NaN     NaN       1.0       1.0     0.0       NaN       NaN   \n",
       "3       NaN     NaN     NaN       1.0       1.0     0.0       NaN       NaN   \n",
       "4       NaN     NaN     NaN       1.0       1.0     0.0       NaN       NaN   \n",
       "\n",
       "   attr1_3  sinc1_3  intel1_3  fun1_3  amb1_3  shar1_3  attr7_3  sinc7_3  \\\n",
       "0     15.0     20.0      20.0    15.0    15.0     15.0      NaN      NaN   \n",
       "1     15.0     20.0      20.0    15.0    15.0     15.0      NaN      NaN   \n",
       "2     15.0     20.0      20.0    15.0    15.0     15.0      NaN      NaN   \n",
       "3     15.0     20.0      20.0    15.0    15.0     15.0      NaN      NaN   \n",
       "4     15.0     20.0      20.0    15.0    15.0     15.0      NaN      NaN   \n",
       "\n",
       "   intel7_3  fun7_3  amb7_3  shar7_3  attr4_3  sinc4_3  intel4_3  fun4_3  \\\n",
       "0       NaN     NaN     NaN      NaN      NaN      NaN       NaN     NaN   \n",
       "1       NaN     NaN     NaN      NaN      NaN      NaN       NaN     NaN   \n",
       "2       NaN     NaN     NaN      NaN      NaN      NaN       NaN     NaN   \n",
       "3       NaN     NaN     NaN      NaN      NaN      NaN       NaN     NaN   \n",
       "4       NaN     NaN     NaN      NaN      NaN      NaN       NaN     NaN   \n",
       "\n",
       "   amb4_3  shar4_3  attr2_3  sinc2_3  intel2_3  fun2_3  amb2_3  shar2_3  \\\n",
       "0     NaN      NaN      NaN      NaN       NaN     NaN     NaN      NaN   \n",
       "1     NaN      NaN      NaN      NaN       NaN     NaN     NaN      NaN   \n",
       "2     NaN      NaN      NaN      NaN       NaN     NaN     NaN      NaN   \n",
       "3     NaN      NaN      NaN      NaN       NaN     NaN     NaN      NaN   \n",
       "4     NaN      NaN      NaN      NaN       NaN     NaN     NaN      NaN   \n",
       "\n",
       "   attr3_3  sinc3_3  intel3_3  fun3_3  amb3_3  attr5_3  sinc5_3  intel5_3  \\\n",
       "0      5.0      7.0       7.0     7.0     7.0      NaN      NaN       NaN   \n",
       "1      5.0      7.0       7.0     7.0     7.0      NaN      NaN       NaN   \n",
       "2      5.0      7.0       7.0     7.0     7.0      NaN      NaN       NaN   \n",
       "3      5.0      7.0       7.0     7.0     7.0      NaN      NaN       NaN   \n",
       "4      5.0      7.0       7.0     7.0     7.0      NaN      NaN       NaN   \n",
       "\n",
       "   fun5_3  amb5_3  \n",
       "0     NaN     NaN  \n",
       "1     NaN     NaN  \n",
       "2     NaN     NaN  \n",
       "3     NaN     NaN  \n",
       "4     NaN     NaN  "
      ]
     },
     "execution_count": 34,
     "metadata": {},
     "output_type": "execute_result"
    }
   ],
   "source": [
    "df = pd.read_csv(\"SpeedDatingData.csv\",encoding='ISO-8859-1')\n",
    "pd.set_option('display.max_columns', None)\n",
    "df.head()"
   ]
  },
  {
   "cell_type": "code",
   "execution_count": 35,
   "id": "fa46b6ed-e6ca-43c9-b323-b0e91f0d8e77",
   "metadata": {},
   "outputs": [
    {
     "name": "stdout",
     "output_type": "stream",
     "text": [
      "<class 'pandas.core.frame.DataFrame'>\n",
      "RangeIndex: 8378 entries, 0 to 8377\n",
      "Columns: 195 entries, iid to amb5_3\n",
      "dtypes: float64(174), int64(13), object(8)\n",
      "memory usage: 12.5+ MB\n"
     ]
    }
   ],
   "source": [
    "df.info()"
   ]
  },
  {
   "cell_type": "markdown",
   "id": "bee5ee23-59ac-4eaa-81ff-a0f5e1ed721c",
   "metadata": {},
   "source": [
    "## Explore with SEABORN"
   ]
  },
  {
   "cell_type": "markdown",
   "id": "c7b605fe-c471-49a9-bcc3-4ab2d5d78875",
   "metadata": {},
   "source": [
    "#### Explore single criteria : race distribution within participants"
   ]
  },
  {
   "cell_type": "code",
   "execution_count": 36,
   "id": "d9d3e19b-301d-404b-9ab9-32618256e73e",
   "metadata": {},
   "outputs": [
    {
     "data": {
      "text/plain": [
       "2.0    4727\n",
       "4.0    1982\n",
       "3.0     664\n",
       "6.0     522\n",
       "1.0     420\n",
       "Name: race, dtype: int64"
      ]
     },
     "execution_count": 36,
     "metadata": {},
     "output_type": "execute_result"
    }
   ],
   "source": [
    "df[\"race\"].value_counts()"
   ]
  },
  {
   "cell_type": "code",
   "execution_count": 37,
   "id": "a48829ac-d330-448e-89fc-315bf57c2967",
   "metadata": {},
   "outputs": [
    {
     "name": "stderr",
     "output_type": "stream",
     "text": [
      "/opt/conda/lib/python3.9/site-packages/seaborn/_decorators.py:36: FutureWarning: Pass the following variable as a keyword arg: x. From version 0.12, the only valid positional argument will be `data`, and passing other arguments without an explicit keyword will result in an error or misinterpretation.\n",
      "  warnings.warn(\n"
     ]
    },
    {
     "data": {
      "text/plain": [
       "<AxesSubplot:xlabel='race', ylabel='count'>"
      ]
     },
     "execution_count": 37,
     "metadata": {},
     "output_type": "execute_result"
    },
    {
     "data": {
      "image/png": "[encoded data removed]",
      "text/plain": [
       "<Figure size 432x288 with 1 Axes>"
      ]
     },
     "metadata": {
      "needs_background": "light"
     },
     "output_type": "display_data"
    }
   ],
   "source": [
    "sns.countplot(df[\"race\"])"
   ]
  },
  {
   "cell_type": "markdown",
   "id": "bec369c4-3c8e-4679-b2b2-addb344ad0d5",
   "metadata": {},
   "source": [
    "#### Explore single criteria : age distribution within participants"
   ]
  },
  {
   "cell_type": "code",
   "execution_count": 38,
   "id": "bb4f7f9c-4db1-4b1e-b26f-c420195dec76",
   "metadata": {},
   "outputs": [
    {
     "name": "stderr",
     "output_type": "stream",
     "text": [
      "/opt/conda/lib/python3.9/site-packages/seaborn/_decorators.py:36: FutureWarning: Pass the following variable as a keyword arg: x. From version 0.12, the only valid positional argument will be `data`, and passing other arguments without an explicit keyword will result in an error or misinterpretation.\n",
      "  warnings.warn(\n"
     ]
    },
    {
     "data": {
      "text/plain": [
       "<AxesSubplot:xlabel='age'>"
      ]
     },
     "execution_count": 38,
     "metadata": {},
     "output_type": "execute_result"
    },
    {
     "data": {
      "image/png": "[encoded data removed]",
      "text/plain": [
       "<Figure size 432x288 with 1 Axes>"
      ]
     },
     "metadata": {
      "needs_background": "light"
     },
     "output_type": "display_data"
    }
   ],
   "source": [
    "sns.boxplot(df['age'])"
   ]
  },
  {
   "cell_type": "code",
   "execution_count": 39,
   "id": "12317f91-97f7-451c-96b0-30b3f1b4670a",
   "metadata": {},
   "outputs": [
    {
     "name": "stderr",
     "output_type": "stream",
     "text": [
      "/opt/conda/lib/python3.9/site-packages/seaborn/distributions.py:2619: FutureWarning: `distplot` is a deprecated function and will be removed in a future version. Please adapt your code to use either `displot` (a figure-level function with similar flexibility) or `histplot` (an axes-level function for histograms).\n",
      "  warnings.warn(msg, FutureWarning)\n"
     ]
    },
    {
     "data": {
      "text/plain": [
       "<AxesSubplot:xlabel='age', ylabel='Density'>"
      ]
     },
     "execution_count": 39,
     "metadata": {},
     "output_type": "execute_result"
    },
    {
     "data": {
      "image/png": "[encoded data removed]",
      "text/plain": [
       "<Figure size 432x288 with 1 Axes>"
      ]
     },
     "metadata": {
      "needs_background": "light"
     },
     "output_type": "display_data"
    }
   ],
   "source": [
    "sns.distplot(df['age'], bins=20)"
   ]
  },
  {
   "cell_type": "markdown",
   "id": "1883bc2b-205d-4626-837e-0a0a075e6f5c",
   "metadata": {},
   "source": [
    "#### Explore multi-dimensional criteria : gender / age / expectations to be happy with the people they meet"
   ]
  },
  {
   "cell_type": "code",
   "execution_count": 40,
   "id": "edf4c726-133a-4e00-b0a2-44b0799f0ec2",
   "metadata": {},
   "outputs": [],
   "source": [
    "# Remove outliers in age\n",
    "data = df.mask(df[\"age\"]>40)"
   ]
  },
  {
   "cell_type": "code",
   "execution_count": 41,
   "id": "38832a1a-86d0-4b23-85fe-32ebd83958c0",
   "metadata": {},
   "outputs": [
    {
     "data": {
      "text/plain": [
       "<seaborn.axisgrid.FacetGrid at 0x7f62af102190>"
      ]
     },
     "execution_count": 41,
     "metadata": {},
     "output_type": "execute_result"
    },
    {
     "data": {
      "image/png": "[encoded data removed]",
      "text/plain": [
       "<Figure size 412x360 with 1 Axes>"
      ]
     },
     "metadata": {
      "needs_background": "light"
     },
     "output_type": "display_data"
    }
   ],
   "source": [
    "sns.relplot(x = 'exphappy' , y = 'age' , data = data, hue = 'gender')"
   ]
  },
  {
   "cell_type": "code",
   "execution_count": 42,
   "id": "5695c156-6db8-4ef5-ad81-6e198ccb92fe",
   "metadata": {},
   "outputs": [
    {
     "data": {
      "text/plain": [
       "<seaborn.axisgrid.FacetGrid at 0x7f62aef7feb0>"
      ]
     },
     "execution_count": 42,
     "metadata": {},
     "output_type": "execute_result"
    },
    {
     "data": {
      "image/png": "[encoded data removed]",
      "text/plain": [
       "<Figure size 412x360 with 1 Axes>"
      ]
     },
     "metadata": {
      "needs_background": "light"
     },
     "output_type": "display_data"
    }
   ],
   "source": [
    "sns.relplot(x = 'age' , y = 'exphappy' , data = data, hue = 'gender', kind ='line')"
   ]
  },
  {
   "cell_type": "code",
   "execution_count": 43,
   "id": "79b885dc-45e3-4717-8ddf-1f77988a99e5",
   "metadata": {},
   "outputs": [
    {
     "name": "stdout",
     "output_type": "stream",
     "text": [
      "We can see that before the age of 33, men tend to be more optimistic than women\n",
      "on whether they will be happy this the people they meet.\n",
      "Women are expecting to be more selective and hard to please.\n"
     ]
    }
   ],
   "source": [
    "print(\"We can see that before the age of 33, men tend to be more optimistic than women\")\n",
    "print(\"on whether they will be happy this the people they meet.\")\n",
    "print(\"Women are expecting to be more selective and hard to please.\")"
   ]
  },
  {
   "cell_type": "markdown",
   "id": "ef9fac54-58c1-4565-9d08-3faec7eea71d",
   "metadata": {},
   "source": [
    "#### Explore multi-dimensional criteria : gender / age / expectations that people met will be interested in dating"
   ]
  },
  {
   "cell_type": "code",
   "execution_count": 44,
   "id": "2b29be94-3bb6-4ef5-9e4a-b17da8d36df5",
   "metadata": {},
   "outputs": [
    {
     "data": {
      "text/plain": [
       "<seaborn.axisgrid.FacetGrid at 0x7f62aef35d00>"
      ]
     },
     "execution_count": 44,
     "metadata": {},
     "output_type": "execute_result"
    },
    {
     "data": {
      "image/png": "[encoded data removed]",
      "text/plain": [
       "<Figure size 412x360 with 1 Axes>"
      ]
     },
     "metadata": {
      "needs_background": "light"
     },
     "output_type": "display_data"
    }
   ],
   "source": [
    "sns.relplot(x = 'age' , y = 'expnum' , data = data, hue = 'gender', kind ='line')"
   ]
  },
  {
   "cell_type": "code",
   "execution_count": 45,
   "id": "dc8f6976-12d7-4e2a-b03e-6b444e0f98d6",
   "metadata": {},
   "outputs": [
    {
     "name": "stdout",
     "output_type": "stream",
     "text": [
      "We can see that at a younger age, women are more confident than men that the opposite gender will be interested in dating them\n",
      "But after 28 yo the trend seems to reverse\n"
     ]
    }
   ],
   "source": [
    "print(\"We can see that at a younger age, women are more confident than men that the opposite gender will be interested in dating them\")\n",
    "print(\"But after 28 yo the trend seems to reverse\")"
   ]
  },
  {
   "cell_type": "markdown",
   "id": "3c9d992d-0187-49e0-9d0f-476c45f6354f",
   "metadata": {},
   "source": [
    "#### Explore multi-dimensional criteria : gender / expectations to be happy with people met / expectations that people met will be interested in dating"
   ]
  },
  {
   "cell_type": "code",
   "execution_count": 46,
   "id": "20fa8698-9e3f-4c17-b180-ddcae0c2df17",
   "metadata": {},
   "outputs": [
    {
     "data": {
      "text/plain": [
       "<seaborn.axisgrid.FacetGrid at 0x7f62af1ffac0>"
      ]
     },
     "execution_count": 46,
     "metadata": {},
     "output_type": "execute_result"
    },
    {
     "data": {
      "image/png": "[encoded data removed]",
      "text/plain": [
       "<Figure size 412x360 with 1 Axes>"
      ]
     },
     "metadata": {
      "needs_background": "light"
     },
     "output_type": "display_data"
    }
   ],
   "source": [
    "sns.relplot(x = 'expnum' , y = 'exphappy' , kind=\"line\", data = data, hue = 'gender')"
   ]
  },
  {
   "cell_type": "markdown",
   "id": "8df432a0-07bc-4d06-ad8f-2b1cefd0459c",
   "metadata": {},
   "source": [
    "#### Try to understand what influence positive decision "
   ]
  },
  {
   "cell_type": "code",
   "execution_count": 47,
   "id": "d4f6c8c3-b5b1-4f5f-940a-bb45e4b5dd23",
   "metadata": {},
   "outputs": [
    {
     "data": {
      "text/plain": [
       "<seaborn.axisgrid.FacetGrid at 0x7f62af2d5370>"
      ]
     },
     "execution_count": 47,
     "metadata": {},
     "output_type": "execute_result"
    },
    {
     "data": {
      "image/png": "[encoded data removed]",
      "text/plain": [
       "<Figure size 360x360 with 1 Axes>"
      ]
     },
     "metadata": {
      "needs_background": "light"
     },
     "output_type": "display_data"
    }
   ],
   "source": [
    "# Visualize impact of interest correlation on positive decision\n",
    "sns.catplot(x='dec_o', y='int_corr', data=data, kind='box')"
   ]
  },
  {
   "cell_type": "code",
   "execution_count": 48,
   "id": "917a4145-f535-41c8-bf76-b3b044e12b71",
   "metadata": {},
   "outputs": [
    {
     "name": "stdout",
     "output_type": "stream",
     "text": [
      "it seems that the correlation of interests is not a major factor for positive or negative decision\n"
     ]
    }
   ],
   "source": [
    "print(\"it seems that the correlation of interests is not a major factor for positive or negative decision\")"
   ]
  },
  {
   "cell_type": "code",
   "execution_count": 49,
   "id": "0ae48f32-dac3-4f06-9109-2d967c185ad9",
   "metadata": {},
   "outputs": [
    {
     "data": {
      "text/plain": [
       "<seaborn.axisgrid.FacetGrid at 0x7f62aeee8580>"
      ]
     },
     "execution_count": 49,
     "metadata": {},
     "output_type": "execute_result"
    },
    {
     "data": {
      "image/png": "[encoded data removed]",
      "text/plain": [
       "<Figure size 360x360 with 1 Axes>"
      ]
     },
     "metadata": {
      "needs_background": "light"
     },
     "output_type": "display_data"
    }
   ],
   "source": [
    "# Visualize impact of attractiveness on positive decision\n",
    "sns.catplot(x='dec_o', y='attr_o', data=data, kind='box')"
   ]
  },
  {
   "cell_type": "code",
   "execution_count": 50,
   "id": "d66a8753-45d7-4979-ba16-5484984b6a14",
   "metadata": {},
   "outputs": [
    {
     "name": "stdout",
     "output_type": "stream",
     "text": [
      "attractiveness has direct influence\n"
     ]
    }
   ],
   "source": [
    "print(\"attractiveness has direct influence\")"
   ]
  },
  {
   "cell_type": "code",
   "execution_count": 51,
   "id": "b439b93f-4742-4124-aea7-f605ac6101b5",
   "metadata": {},
   "outputs": [
    {
     "data": {
      "text/plain": [
       "<seaborn.axisgrid.FacetGrid at 0x7f62aef3c0a0>"
      ]
     },
     "execution_count": 51,
     "metadata": {},
     "output_type": "execute_result"
    },
    {
     "data": {
      "image/png": "[encoded data removed]",
      "text/plain": [
       "<Figure size 360x360 with 1 Axes>"
      ]
     },
     "metadata": {
      "needs_background": "light"
     },
     "output_type": "display_data"
    }
   ],
   "source": [
    "# Visualize impact of interest intelligence on positive decision\n",
    "sns.catplot(x='dec_o', y='intel_o', data=data, kind='box')"
   ]
  },
  {
   "cell_type": "code",
   "execution_count": 52,
   "id": "68a7c057-13a3-4688-a73e-076a22b281af",
   "metadata": {},
   "outputs": [
    {
     "name": "stdout",
     "output_type": "stream",
     "text": [
      "So does intelligence\n"
     ]
    }
   ],
   "source": [
    "print(\"So does intelligence\")"
   ]
  },
  {
   "cell_type": "code",
   "execution_count": 53,
   "id": "607cc109-1aa0-4cdd-8c3d-3080c30736c3",
   "metadata": {},
   "outputs": [
    {
     "data": {
      "text/plain": [
       "<seaborn.axisgrid.FacetGrid at 0x7f62aed91f40>"
      ]
     },
     "execution_count": 53,
     "metadata": {},
     "output_type": "execute_result"
    },
    {
     "data": {
      "image/png": "[encoded data removed]",
      "text/plain": [
       "<Figure size 360x360 with 1 Axes>"
      ]
     },
     "metadata": {
      "needs_background": "light"
     },
     "output_type": "display_data"
    }
   ],
   "source": [
    "sns.catplot(x='dec_o', y='fun_o', data=data, kind='box')"
   ]
  },
  {
   "cell_type": "code",
   "execution_count": 55,
   "id": "d3fe98d8-401e-4c47-8e6e-fcd39bc394a8",
   "metadata": {},
   "outputs": [
    {
     "name": "stdout",
     "output_type": "stream",
     "text": [
      "Fun perceived also has impact on the decision ...\n"
     ]
    }
   ],
   "source": [
    "print(\"Fun perceived also has impact on the decision ...\")"
   ]
  },
  {
   "cell_type": "code",
   "execution_count": 22,
   "id": "57f1fd9f-990e-4d64-9c29-3e2604a81bf1",
   "metadata": {},
   "outputs": [
    {
     "data": {
      "text/plain": [
       "<seaborn.axisgrid.FacetGrid at 0x7f4daa4f32e0>"
      ]
     },
     "execution_count": 22,
     "metadata": {},
     "output_type": "execute_result"
    },
    {
     "data": {
      "image/png": "[encoded data removed]",
      "text/plain": [
       "<Figure size 360x360 with 1 Axes>"
      ]
     },
     "metadata": {
      "needs_background": "light"
     },
     "output_type": "display_data"
    }
   ],
   "source": [
    "sns.catplot(x='match', y='fun_o', data=data, kind='box')"
   ]
  },
  {
   "cell_type": "code",
   "execution_count": 56,
   "id": "d77d6e23-ee56-46f3-bb04-881cdd80ba29",
   "metadata": {},
   "outputs": [
    {
     "name": "stdout",
     "output_type": "stream",
     "text": [
      "... and it seems even more significant in the matching results\n"
     ]
    }
   ],
   "source": [
    "print(\"... and it seems even more significant in the matching results\")"
   ]
  },
  {
   "cell_type": "markdown",
   "id": "41a60fb2-8be0-4ea9-8ea5-1717ba6b8690",
   "metadata": {},
   "source": [
    "## Go further to understand what influences decision : Data vizualisation with MATPLOTLIB"
   ]
  },
  {
   "cell_type": "code",
   "execution_count": 26,
   "id": "5f53a842-9370-4eac-85e3-065e4b06bf96",
   "metadata": {},
   "outputs": [],
   "source": [
    "import matplotlib.pyplot as plt\n",
    "import numpy as np "
   ]
  },
  {
   "cell_type": "markdown",
   "id": "b1de9524-b9a0-4a85-909d-29615a24bf5c",
   "metadata": {},
   "source": [
    "#### Visualize decisions on the night of the event regarding gender"
   ]
  },
  {
   "cell_type": "code",
   "execution_count": 27,
   "id": "0d09c909-0d2f-46f8-81d2-bfadf1c9b677",
   "metadata": {},
   "outputs": [
    {
     "data": {
      "image/png": "[encoded data removed]",
      "text/plain": [
       "<Figure size 432x288 with 1 Axes>"
      ]
     },
     "metadata": {
      "needs_background": "light"
     },
     "output_type": "display_data"
    }
   ],
   "source": [
    "# Create datas\n",
    "gender_group = df.groupby(['gender','dec_o'])['iid'].count()\n",
    "gender_decisions = gender_group.tolist()\n",
    "negative = [0,2]\n",
    "positive = [1,3]\n",
    "gender_negative = [gender_decisions[i] for i in negative]\n",
    "gender_positive = [gender_decisions[i] for i in positive]\n",
    "\n",
    "names = ['Female', 'Male']\n",
    "\n",
    "# Create Barplot\n",
    "plt.bar(names, gender_negative, width=0.8, color = 'blue')\n",
    "plt.bar(names, gender_positive, bottom=gender_negative, color = 'yellow')\n",
    "plt.title(\"Decision according to gender\") # Create title\n",
    "plt.legend([\"Negative\", \"Positive\"]) # Create legend\n",
    "plt.show()"
   ]
  },
  {
   "cell_type": "markdown",
   "id": "618b263c-b38d-47ee-b0d6-afaf4c314816",
   "metadata": {},
   "source": [
    "##"
   ]
  },
  {
   "cell_type": "markdown",
   "id": "9376d97b-e764-42a8-85f3-5e62c522d90c",
   "metadata": {},
   "source": [
    "#### Visualize decisions on the night of the event regarding the reasons to attend"
   ]
  },
  {
   "cell_type": "code",
   "execution_count": 28,
   "id": "d6c8a8d3-5db4-4ae0-ac33-ed9498914865",
   "metadata": {},
   "outputs": [
    {
     "data": {
      "image/png": "[encoded data removed]",
      "text/plain": [
       "<Figure size 432x288 with 1 Axes>"
      ]
     },
     "metadata": {
      "needs_background": "light"
     },
     "output_type": "display_data"
    }
   ],
   "source": [
    "# Create datas\n",
    "goal_group = df.groupby(['goal','dec_o'])['iid'].count()\n",
    "goal_decisions = goal_group.tolist()\n",
    "negative_goal = [0,2,4,6,8,10]\n",
    "positive_goal = [1,3,5,7,9,11]\n",
    "goal_negative = [goal_decisions[i] for i in negative_goal]\n",
    "goal_positive = [goal_decisions[i] for i in positive_goal]\n",
    "\n",
    "names = ['fun', 'meet people', 'date', 'serious', 'did it' , \"Other\"]\n",
    "\n",
    "# Create Barplot\n",
    "plt.bar(names, goal_negative, width=0.8, color = 'purple')\n",
    "plt.bar(names, goal_positive, bottom=goal_negative, color = 'yellow')\n",
    "plt.title(\"Decision according to reasons to participate\") # Create title\n",
    "plt.legend([\"Negative\", \"Positive\"]) # Create legend\n",
    "plt.show()"
   ]
  },
  {
   "cell_type": "markdown",
   "id": "0d17f335-4fe7-48c1-9012-93682146bf1f",
   "metadata": {},
   "source": [
    "##"
   ]
  },
  {
   "cell_type": "markdown",
   "id": "3ec2b7b9-2f88-4aba-9d12-862d878e0204",
   "metadata": {},
   "source": [
    "#### Visualize decisions on the night of the event regarding race similarity (1/2) : global"
   ]
  },
  {
   "cell_type": "code",
   "execution_count": 62,
   "id": "76539985-652e-424e-927d-8372648d2a8a",
   "metadata": {},
   "outputs": [
    {
     "data": {
      "image/png": "[encoded data removed]",
      "text/plain": [
       "<Figure size 432x288 with 1 Axes>"
      ]
     },
     "metadata": {
      "needs_background": "light"
     },
     "output_type": "display_data"
    }
   ],
   "source": [
    "# Create datas\n",
    "samerace_group = df.groupby(['samerace','dec_o'])['iid'].count()\n",
    "samerace_decisions = samerace_group.tolist()\n",
    "negative = [0,2]\n",
    "positive = [1,3]\n",
    "samerace_negative = [samerace_decisions[i] for i in negative]\n",
    "samerace_positive = [samerace_decisions[i] for i in positive]\n",
    "\n",
    "names = ['meet. w/ different race', 'meet. w/ same race']\n",
    "\n",
    "# Create Barplot\n",
    "plt.bar(names, samerace_negative, width=0.8, color = 'orange')\n",
    "plt.bar(names, samerace_positive, bottom=samerace_negative, color = 'yellow')\n",
    "plt.title(\"Decision according to race similarity\") # Create title\n",
    "plt.legend([\"Negative\", \"Positive\"]) # Create legend\n",
    "plt.show()"
   ]
  },
  {
   "cell_type": "markdown",
   "id": "28870c0f-e333-4dd4-831b-57b1b4d01e7f",
   "metadata": {},
   "source": [
    "##"
   ]
  },
  {
   "cell_type": "markdown",
   "id": "173830b1-3632-48e6-be49-583349907dd6",
   "metadata": {},
   "source": [
    "#### Visualize decisions on the night of the event regarding race similarity (2/2) : specific"
   ]
  },
  {
   "cell_type": "code",
   "execution_count": 64,
   "id": "d59fdc63-0bb7-45d8-99b5-847381d45e57",
   "metadata": {},
   "outputs": [
    {
     "data": {
      "image/png": "[encoded data removed]",
      "text/plain": [
       "<Figure size 720x720 with 4 Axes>"
      ]
     },
     "metadata": {
      "needs_background": "light"
     },
     "output_type": "display_data"
    }
   ],
   "source": [
    "negative = [0,2]\n",
    "positive = [1,3]\n",
    "names = ['meet. w/ different race', 'meet. w/same race']\n",
    "\n",
    "# Create datas : Decision according to race similarity among Black and African-American participants\n",
    "race_black_AfA = df[df['race']==1]\n",
    "black_AfA_decisions = race_black_AfA.groupby(['samerace','dec_o'])['iid'].count().tolist()\n",
    "black_AfA_negative = [black_AfA_decisions[i] for i in negative]\n",
    "black_AfA_positive = [black_AfA_decisions[i] for i in positive]\n",
    "\n",
    "\n",
    "# Create datas : Decision according to race similarity among European / Caucasian participants\n",
    "race_euro_caucas = df[df['race']==2]\n",
    "euro_caucas_decisions = race_euro_caucas.groupby(['samerace','dec_o'])['iid'].count().tolist()\n",
    "euro_caucas_negative = [euro_caucas_decisions[i] for i in negative]\n",
    "euro_caucas_positive = [euro_caucas_decisions[i] for i in positive]\n",
    "\n",
    "\n",
    "# Create datas : Decision according to race similarity among Latino/Hispanic participants\n",
    "race_latin = df[df['race']==3]\n",
    "latin_decisions = race_latin.groupby(['samerace','dec_o'])['iid'].count().tolist()\n",
    "latin_negative = [latin_decisions[i] for i in negative]\n",
    "latin_positive = [latin_decisions[i] for i in positive]\n",
    "\n",
    "\n",
    "# Create datas : Decision according to race similarity among Latino/Hispanic participants\n",
    "race_asian = df[df['race']==4]\n",
    "asian_decisions = race_asian.groupby(['samerace','dec_o'])['iid'].count().tolist()\n",
    "asian_negative = [asian_decisions[i] for i in negative]\n",
    "asian_positive = [asian_decisions[i] for i in positive]\n",
    "\n",
    "\n",
    "# Creation of three graphics via plt.subplot()\n",
    "plt.figure(figsize=(10,10))\n",
    "\n",
    "\n",
    "# Create Barplot : Decision according to race similarity among Black and African-American participants\n",
    "plt.subplot(221)\n",
    "plt.bar(names, black_AfA_negative, color = 'orange')\n",
    "plt.bar(names, black_AfA_positive, bottom=black_AfA_negative, color = 'yellow')\n",
    "plt.title(\"among Black / African-American participants\") # Create title\n",
    "plt.legend([\"Negative decision\", \"Positive decision\"]) # Create legend\n",
    "\n",
    "# Create Barplot : Decision according to race similarity among European / Caucasian participants\n",
    "plt.subplot(222)\n",
    "plt.bar(names, euro_caucas_negative, color = 'orange')\n",
    "plt.bar(names, euro_caucas_positive, bottom=euro_caucas_negative, color = 'yellow')\n",
    "plt.title(\"among European / Caucasian participants\") # Create title\n",
    "plt.legend([\"Negative decision\", \"Positive decision\"]) # Create legend\n",
    "\n",
    "# Create Barplot : among Latino/Hispanic participants\n",
    "plt.subplot(223)\n",
    "plt.bar(names, latin_negative, color = 'orange')\n",
    "plt.bar(names, latin_positive, bottom=latin_negative, color = 'yellow')\n",
    "plt.title(\"among Latino / Hispanic participants\") # Create title\n",
    "plt.legend([\"Negative decision\", \"Positive decision\"]) # Create legend\n",
    "\n",
    "# Create Barplot : among asian/pacific participants\n",
    "plt.subplot(224)\n",
    "plt.bar(names, asian_negative, color = 'orange')\n",
    "plt.bar(names, asian_positive, bottom=asian_negative, color = 'yellow')\n",
    "plt.title(\"among Asian / Pacific islanders\") # Create title\n",
    "plt.legend([\"Negative decision\", \"Positive decision\"]) # Create legend\n",
    "\n",
    "\n",
    "plt.show()\n"
   ]
  },
  {
   "cell_type": "markdown",
   "id": "421971c4-901a-4173-b684-566d45005dd3",
   "metadata": {},
   "source": [
    "##"
   ]
  },
  {
   "cell_type": "markdown",
   "id": "1ebac12e-9e58-41e6-b0a7-b05f63123959",
   "metadata": {},
   "source": [
    "##### Avoiding bias - For each ethnic group involved, analyse the distribution of each race within meeting partners"
   ]
  },
  {
   "cell_type": "code",
   "execution_count": 40,
   "id": "3861dbc1-3b50-4c61-a2cd-5ef975bd58d2",
   "metadata": {},
   "outputs": [
    {
     "data": {
      "image/png": "[encoded data removed]",
      "text/plain": [
       "<Figure size 720x720 with 5 Axes>"
      ]
     },
     "metadata": {},
     "output_type": "display_data"
    }
   ],
   "source": [
    "labels = 'Black/Af.Am', 'Euro/Caucasian', 'Latin/Hisp.', 'Asian/Pacific', 'Other'\n",
    "sizes_1 = race_black_AfA.groupby(['race_o'])['iid'].count().tolist()\n",
    "sizes_2 = race_euro_caucas.groupby(['race_o'])['iid'].count().tolist()\n",
    "sizes_3 = race_latin.groupby(['race_o'])['iid'].count().tolist()\n",
    "sizes_4 = race_asian.groupby(['race_o'])['iid'].count().tolist()\n",
    "sizes_5 = df[df['race']==6].groupby(['race_o'])['iid'].count().tolist()\n",
    "\n",
    "plt.figure(figsize=(10,10))\n",
    "\n",
    "plt.subplot(321)\n",
    "plt.pie(sizes_1, labels=labels, autopct='%1.1f%%')\n",
    "plt.title(\"Race of partner for black participants\") # Create title\n",
    "\n",
    "plt.subplot(322)\n",
    "plt.pie(sizes_2, labels=labels, autopct='%1.1f%%')\n",
    "plt.title(\"Race of partner for caucasian participants\") # Create title\n",
    "\n",
    "plt.subplot(323)\n",
    "plt.pie(sizes_3, labels=labels, autopct='%1.1f%%')\n",
    "plt.title(\"Race of partner for latino participants\") # Create title\n",
    "\n",
    "plt.subplot(324)\n",
    "plt.pie(sizes_4, labels=labels, autopct='%1.1f%%')\n",
    "plt.title(\"Race of partner for asian participants\") # Create title\n",
    "\n",
    "plt.subplot(325)\n",
    "plt.pie(sizes_5, labels=labels, autopct='%1.1f%%')\n",
    "plt.title(\"Race of partner for other race participants\") # Create title\n",
    "\n",
    "\n",
    "plt.show()"
   ]
  },
  {
   "cell_type": "markdown",
   "id": "ed2829bd-2a6c-457a-b72f-4dd6e0f8e012",
   "metadata": {},
   "source": [
    "##"
   ]
  },
  {
   "cell_type": "markdown",
   "id": "24e69fb3-3a76-43a2-8f4c-b05a4f026992",
   "metadata": {},
   "source": [
    "## Interactive Graphs with Plotly"
   ]
  },
  {
   "cell_type": "code",
   "execution_count": 66,
   "id": "a45f57ef-19d7-4d68-a860-8a37759c2e48",
   "metadata": {},
   "outputs": [],
   "source": [
    "# Import libraries\n",
    "\n",
    "import plotly.io as pio\n",
    "pio.renderers.default = \"iframe_connected\"\n",
    "import plotly.express as px\n",
    "from plotly.subplots import make_subplots"
   ]
  },
  {
   "cell_type": "code",
   "execution_count": 67,
   "id": "eea576ac-5df9-4ef6-976c-d612df161fb4",
   "metadata": {},
   "outputs": [
    {
     "name": "stderr",
     "output_type": "stream",
     "text": [
      "/tmp/ipykernel_49/990731004.py:6: SettingWithCopyWarning:\n",
      "\n",
      "\n",
      "A value is trying to be set on a copy of a slice from a DataFrame.\n",
      "Try using .loc[row_indexer,col_indexer] = value instead\n",
      "\n",
      "See the caveats in the documentation: https://pandas.pydata.org/pandas-docs/stable/user_guide/indexing.html#returning-a-view-versus-a-copy\n",
      "\n",
      "/tmp/ipykernel_49/990731004.py:7: SettingWithCopyWarning:\n",
      "\n",
      "\n",
      "A value is trying to be set on a copy of a slice from a DataFrame.\n",
      "Try using .loc[row_indexer,col_indexer] = value instead\n",
      "\n",
      "See the caveats in the documentation: https://pandas.pydata.org/pandas-docs/stable/user_guide/indexing.html#returning-a-view-versus-a-copy\n",
      "\n",
      "/tmp/ipykernel_49/990731004.py:9: SettingWithCopyWarning:\n",
      "\n",
      "\n",
      "A value is trying to be set on a copy of a slice from a DataFrame.\n",
      "Try using .loc[row_indexer,col_indexer] = value instead\n",
      "\n",
      "See the caveats in the documentation: https://pandas.pydata.org/pandas-docs/stable/user_guide/indexing.html#returning-a-view-versus-a-copy\n",
      "\n"
     ]
    }
   ],
   "source": [
    "# Improve data for animation figure\n",
    " \n",
    " #dropna\n",
    "data_animation = data.dropna(subset=['attr_o', 'int_corr', 'age'])\n",
    " #data for size\n",
    "data_animation['success_float'] = data_animation['match']+data_animation['dec_o']\n",
    "data_animation['success_float_reval'] = data_animation['success_float'].apply(lambda x: x+1)\n",
    " #data for color\n",
    "data_animation['success'] = data_animation['success_float'].apply(lambda x: \n",
    "                                                             \"match\" if x==2 \n",
    "                                                             else \"positive decision\" if x==1 \n",
    "                                                             else \"rejected\")\n"
   ]
  },
  {
   "cell_type": "markdown",
   "id": "1ee23dd1-621d-4522-9849-5ba29db8045b",
   "metadata": {},
   "source": [
    "#### Let's look at the results of the event (negative decision, positive, positive & match, according to : "
   ]
  },
  {
   "cell_type": "markdown",
   "id": "251071fa-7236-438d-a8db-c2832647cf9f",
   "metadata": {},
   "source": [
    "##### 1 - Attractiveness (importance, and rate)"
   ]
  },
  {
   "cell_type": "code",
   "execution_count": 41,
   "id": "36388b7d-e4f4-4ee5-b3c8-884b7c56a028",
   "metadata": {},
   "outputs": [
    {
     "data": {
      "text/html": [
       "<iframe\n",
       "    scrolling=\"no\"\n",
       "    width=\"100%\"\n",
       "    height=\"545px\"\n",
       "    src=\"iframe_figures/figure_41.html\"\n",
       "    frameborder=\"0\"\n",
       "    allowfullscreen\n",
       "></iframe>\n"
      ]
     },
     "metadata": {},
     "output_type": "display_data"
    }
   ],
   "source": [
    "fig_attr = px.scatter(data_animation, x = \"attr_o\", y = \"pf_o_att\", animation_frame = \"wave\", animation_group = \"iid\",\n",
    "                    color = \"success\", hover_name = \"success\", size = \"success_float_reval\",\n",
    "                    size_max = 35, labels = {\"attr_o\":\"rated attractiveness of partner\", \n",
    "                                             \"pf_o_att\":\"importance of criterion for participant\"},\n",
    "                    category_orders = {\"success\":['match','positive decision','rejected']}) \n",
    "\n",
    "fig_attr.show()"
   ]
  },
  {
   "cell_type": "markdown",
   "id": "e1935f30-e8c7-407c-9acc-ab9b1d6b2df9",
   "metadata": {},
   "source": [
    "##### 2 - Intelligence (importance, and rate)"
   ]
  },
  {
   "cell_type": "code",
   "execution_count": 38,
   "id": "6ef4de60-a7ad-4799-83bb-402ba17e4c1c",
   "metadata": {},
   "outputs": [
    {
     "data": {
      "text/html": [
       "<iframe\n",
       "    scrolling=\"no\"\n",
       "    width=\"100%\"\n",
       "    height=\"545px\"\n",
       "    src=\"iframe_figures/figure_38.html\"\n",
       "    frameborder=\"0\"\n",
       "    allowfullscreen\n",
       "></iframe>\n"
      ]
     },
     "metadata": {},
     "output_type": "display_data"
    }
   ],
   "source": [
    "\n",
    "fig_int = px.scatter(data_animation, x = \"intel_o\", y = \"pf_o_int\", animation_frame = \"wave\", animation_group = \"iid\",\n",
    "                    color = \"success\", hover_name = \"success\", size = \"success_float_reval\",\n",
    "                    size_max = 35, labels = {\"intel_o\":\"rated intelligence of partner\", \n",
    "                                             \"pf_o_int\":\"importance of criterion for participant\"},\n",
    "                    category_orders = {\"success\":['match','positive decision','rejected']}) \n",
    "\n",
    "fig_int.show()"
   ]
  },
  {
   "cell_type": "markdown",
   "id": "6cc4f17c-b536-4830-b0a9-03fc057f49d3",
   "metadata": {},
   "source": [
    "##### 3 - Attractiveness versus Intelligence"
   ]
  },
  {
   "cell_type": "code",
   "execution_count": 39,
   "id": "63f9c3b9-e634-4ab1-a565-8004d8e47edd",
   "metadata": {},
   "outputs": [
    {
     "data": {
      "text/html": [
       "<iframe\n",
       "    scrolling=\"no\"\n",
       "    width=\"100%\"\n",
       "    height=\"545px\"\n",
       "    src=\"iframe_figures/figure_39.html\"\n",
       "    frameborder=\"0\"\n",
       "    allowfullscreen\n",
       "></iframe>\n"
      ]
     },
     "metadata": {},
     "output_type": "display_data"
    }
   ],
   "source": [
    "\n",
    "fig_int = px.scatter(data_animation, x = \"attr_o\", y = \"intel_o\", animation_frame = \"wave\", animation_group = \"iid\",\n",
    "                    color = \"success\", hover_name = \"success\", size = \"success_float_reval\",\n",
    "                    size_max = 35, labels = {\"attr_o\":\"rated intelligence of partner\", \n",
    "                                             \"intel_o\":\"rated intelligence of partner\"},\n",
    "                    category_orders = {\"success\":['match','positive decision','rejected']}) \n",
    "\n",
    "fig_int.show()"
   ]
  },
  {
   "cell_type": "code",
   "execution_count": null,
   "id": "572d2af2-3b96-4ba6-88ae-aacd27d7c2d9",
   "metadata": {},
   "outputs": [],
   "source": []
  }
 ],
 "metadata": {
  "kernelspec": {
   "display_name": "Python 3 (ipykernel)",
   "language": "python",
   "name": "python3"
  },
  "language_info": {
   "codemirror_mode": {
    "name": "ipython",
    "version": 3
   },
   "file_extension": ".py",
   "mimetype": "text/x-python",
   "name": "python",
   "nbconvert_exporter": "python",
   "pygments_lexer": "ipython3",
   "version": "3.9.7"
  }
 },
 "nbformat": 4,
 "nbformat_minor": 5
}
